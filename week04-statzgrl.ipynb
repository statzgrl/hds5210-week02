{
 "cells": [
  {
   "cell_type": "code",
   "execution_count": 3,
   "metadata": {
    "collapsed": false
   },
   "outputs": [
    {
     "name": "stdout",
     "output_type": "stream",
     "text": [
      "Trying:\n",
      "    nand(True,True)\n",
      "Expecting:\n",
      "    False\n",
      "ok\n",
      "Trying:\n",
      "    nand(True, False)\n",
      "Expecting:\n",
      "    True\n",
      "ok\n",
      "Trying:\n",
      "    nand(False, True)\n",
      "Expecting:\n",
      "    True\n",
      "ok\n",
      "Trying:\n",
      "    nand(False, False)\n",
      "Expecting:\n",
      "    True\n",
      "ok\n",
      "1 items had no tests:\n",
      "    __main__\n",
      "1 items passed all tests:\n",
      "   4 tests in __main__.nand\n",
      "4 tests in 2 items.\n",
      "4 passed and 0 failed.\n",
      "Test passed.\n"
     ]
    },
    {
     "data": {
      "text/plain": [
       "TestResults(failed=0, attempted=4)"
      ]
     },
     "execution_count": 3,
     "metadata": {},
     "output_type": "execute_result"
    }
   ],
   "source": [
    "#Question 1 NAND function and testmod\n",
    "\n",
    "def nand(a, b):\n",
    "    \"\"\"\"(bool, bool) -> bool\n",
    "    Return the NOT AND of the two inputs. For nand to return True\n",
    "    a or b or both a and b must be false.\n",
    "    \n",
    "    >>> nand(True,True)\n",
    "    False\n",
    "    \n",
    "    >>> nand(True, False)\n",
    "    True\n",
    "    \n",
    "    >>> nand(False, True)\n",
    "    True\n",
    "    \n",
    "    >>> nand(False, False)\n",
    "    True\n",
    "    \"\"\"\n",
    "    return (a==True and b==False) or (a==False and b==True) or (a==False and b==False)\n",
    "\n",
    "import doctest\n",
    "doctest.testmod(verbose=True)"
   ]
  },
  {
   "cell_type": "code",
   "execution_count": 11,
   "metadata": {
    "collapsed": false
   },
   "outputs": [
    {
     "name": "stdout",
     "output_type": "stream",
     "text": [
      "Trying:\n",
      "    LACE(4, False, 1, 0)\n",
      "Expecting:\n",
      "    5\n",
      "ok\n",
      "Trying:\n",
      "    LACE(4, True, 4, 7)\n",
      "Expecting:\n",
      "    16\n",
      "ok\n",
      "Trying:\n",
      "    nand(True,True)\n",
      "Expecting:\n",
      "    False\n",
      "ok\n",
      "Trying:\n",
      "    nand(True, False)\n",
      "Expecting:\n",
      "    True\n",
      "ok\n",
      "Trying:\n",
      "    nand(False, True)\n",
      "Expecting:\n",
      "    True\n",
      "ok\n",
      "Trying:\n",
      "    nand(False, False)\n",
      "Expecting:\n",
      "    True\n",
      "ok\n",
      "1 items had no tests:\n",
      "    __main__\n",
      "2 items passed all tests:\n",
      "   2 tests in __main__.LACE\n",
      "   4 tests in __main__.nand\n",
      "6 tests in 3 items.\n",
      "6 passed and 0 failed.\n",
      "Test passed.\n"
     ]
    },
    {
     "data": {
      "text/plain": [
       "TestResults(failed=0, attempted=6)"
      ]
     },
     "execution_count": 11,
     "metadata": {},
     "output_type": "execute_result"
    }
   ],
   "source": [
    "def LACE( length_of_stay, acute_flag, charlson, ed_visits):\n",
    "    \"\"\"(int, bool, int, int) -> int\n",
    "    This function uses the logic from https://www.hindawi.com/journals/bmri/2015/169870/tab1/\n",
    "    to compute the LACE score for this patient.\n",
    "    \n",
    "    >>> LACE(4, False, 1, 0)\n",
    "    5\n",
    "    \n",
    "    >>> LACE(4, True, 4, 7)\n",
    "    16\n",
    "    \n",
    "    \"\"\"\n",
    "    nums = ( length_of_stay, int(acute_flag), charlson, ed_visits )\n",
    "    slace = sum(nums)\n",
    "    return slace\n",
    "\n",
    "import doctest\n",
    "doctest.testmod(verbose=True)"
   ]
  },
  {
   "cell_type": "code",
   "execution_count": 18,
   "metadata": {
    "collapsed": false
   },
   "outputs": [
    {
     "name": "stdout",
     "output_type": "stream",
     "text": [
      "Trying:\n",
      "    LACE(4, False, 1, 0)\n",
      "Expecting:\n",
      "    5\n",
      "ok\n",
      "Trying:\n",
      "    LACE(4, True, 4, 7)\n",
      "Expecting:\n",
      "    16\n",
      "ok\n",
      "Trying:\n",
      "    assign_care_coordinator('None', 0, 4, False, 1)\n",
      "Expecting:\n",
      "    False\n",
      "ok\n",
      "Trying:\n",
      "    assign_care_coordinator('CHF', 0, 4, False, 1)\n",
      "Expecting:\n",
      "    True\n",
      "ok\n",
      "Trying:\n",
      "    assign_care_coordinator('COPD', 0, 4, False, 1)\n",
      "Expecting:\n",
      "    True\n",
      "ok\n",
      "Trying:\n",
      "    assign_care_coordinator('None', 7, 4, True, 4)\n",
      "Expecting:\n",
      "    True\n",
      "ok\n",
      "Trying:\n",
      "    assign_care_coordinator('CHF', 7, 4, True, 4)\n",
      "Expecting:\n",
      "    True\n",
      "ok\n",
      "Trying:\n",
      "    nand(True,True)\n",
      "Expecting:\n",
      "    False\n",
      "ok\n",
      "Trying:\n",
      "    nand(True, False)\n",
      "Expecting:\n",
      "    True\n",
      "ok\n",
      "Trying:\n",
      "    nand(False, True)\n",
      "Expecting:\n",
      "    True\n",
      "ok\n",
      "Trying:\n",
      "    nand(False, False)\n",
      "Expecting:\n",
      "    True\n",
      "ok\n",
      "1 items had no tests:\n",
      "    __main__\n",
      "3 items passed all tests:\n",
      "   2 tests in __main__.LACE\n",
      "   5 tests in __main__.assign_care_coordinator\n",
      "   4 tests in __main__.nand\n",
      "11 tests in 4 items.\n",
      "11 passed and 0 failed.\n",
      "Test passed.\n"
     ]
    },
    {
     "data": {
      "text/plain": [
       "TestResults(failed=0, attempted=11)"
      ]
     },
     "execution_count": 18,
     "metadata": {},
     "output_type": "execute_result"
    }
   ],
   "source": [
    "def assign_care_coordinator(diagnosis_cd, ed_visit_count, length_of_stay, acute_flag, charlson):\n",
    "    \"\"\" (str, int, int, bool, int) -> bool\n",
    "    Care managers use LACE as part of the criteria for assigning a care coodinator to a \n",
    "    patient who has been recently discharged. If the score is above 10, then a care \n",
    "    coordinator will be assigned. The other criteria they use is if the patient has been \n",
    "    discharged with a diagnosis of CHF or COPD. If the diagnosis field has CHF or COPD in \n",
    "    it, then the patient will have a care coordinator assigned.\n",
    "    \n",
    "    >>> assign_care_coordinator('None', 0, 4, False, 1)\n",
    "    False\n",
    "\n",
    "    >>> assign_care_coordinator('CHF', 0, 4, False, 1)\n",
    "    True\n",
    "\n",
    "    >>> assign_care_coordinator('COPD', 0, 4, False, 1)\n",
    "    True\n",
    "\n",
    "    >>> assign_care_coordinator('None', 7, 4, True, 4)\n",
    "    True\n",
    "    \n",
    "    >>> assign_care_coordinator('CHF', 7, 4, True, 4)\n",
    "    True\n",
    "    \"\"\"\n",
    "    nums = ( ed_visit_count, length_of_stay, int(acute_flag), charlson )\n",
    "    diag = diagnosis_cd\n",
    "    slace = sum(nums)\n",
    "    return slace >= 10 or diag==\"CHF\" or diag==\"COPD\"\n",
    "\n",
    "import doctest\n",
    "doctest.testmod(verbose=True)"
   ]
  },
  {
   "cell_type": "code",
   "execution_count": null,
   "metadata": {
    "collapsed": true
   },
   "outputs": [],
   "source": []
  }
 ],
 "metadata": {
  "kernelspec": {
   "display_name": "Python 3",
   "language": "python",
   "name": "python3"
  },
  "language_info": {
   "codemirror_mode": {
    "name": "ipython",
    "version": 3
   },
   "file_extension": ".py",
   "mimetype": "text/x-python",
   "name": "python",
   "nbconvert_exporter": "python",
   "pygments_lexer": "ipython3",
   "version": "3.4.3"
  }
 },
 "nbformat": 4,
 "nbformat_minor": 0
}
