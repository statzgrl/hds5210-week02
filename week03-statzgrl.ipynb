{
 "cells": [
  {
   "cell_type": "code",
   "execution_count": 37,
   "metadata": {
    "collapsed": false
   },
   "outputs": [
    {
     "data": {
      "text/plain": [
       "89"
      ]
     },
     "execution_count": 37,
     "metadata": {},
     "output_type": "execute_result"
    }
   ],
   "source": [
    "#1-createfunction\n",
    "def sumthree(num1, num2, num3):\n",
    "    \"\"\"Return the sum of three numbers\"\"\"\n",
    "    nums=[num1, num2, num3]\n",
    "    sumnums=sum(nums)\n",
    "    return sumnums\n",
    "#use function\n",
    "sumthree(4,9,sumthree(12,8,sumthree(16,19,11)))+10"
   ]
  },
  {
   "cell_type": "code",
   "execution_count": 34,
   "metadata": {
    "collapsed": false
   },
   "outputs": [
    {
     "name": "stdout",
     "output_type": "stream",
     "text": [
      "The current value of temp is 103\n"
     ]
    }
   ],
   "source": [
    "#2-understanding functions\n",
    "#looks like it will return the sentence \"The current value of temp is 99\"\n",
    "#after subtracting 4 from the temp which is entered as 103\n",
    "temp = 103\n",
    "\n",
    "def calculate_target (temp):\n",
    "    temp -= 4\n",
    "    return temp\n",
    "\n",
    "calculate_target (temp)\n",
    "\n",
    "print(\"The current value of temp is \" + str(temp))\n",
    "\n",
    "#the reason it doesn't return 99 is because it doesn't save the calculated\n",
    "#value to a new variable name, so the sentence uses the saved value of temp\n",
    "#rather than the calculated value, which just disappears into forever\n",
    "#like Shaka, when the walls fell"
   ]
  },
  {
   "cell_type": "code",
   "execution_count": 46,
   "metadata": {
    "collapsed": false
   },
   "outputs": [
    {
     "data": {
      "text/plain": [
       "1.0"
      ]
     },
     "execution_count": 46,
     "metadata": {},
     "output_type": "execute_result"
    }
   ],
   "source": [
    "#3 parsing dosage amounts and units\n",
    "#works, but only with quotes around entered text...hmmm\n",
    "def getnum(thingy):\n",
    "    \"\"\"takes thingy and removes the units\n",
    "    first find the space between num and units\n",
    "    then use [] to remove the end of thingy up through\n",
    "    the space\"\"\"\n",
    "    justnum = float(thingy[0:thingy.find(' ')])\n",
    "    return justnum\n",
    "\n",
    "getnum('1.0 L/hr')"
   ]
  },
  {
   "cell_type": "code",
   "execution_count": 47,
   "metadata": {
    "collapsed": false
   },
   "outputs": [
    {
     "data": {
      "text/plain": [
       "10.0"
      ]
     },
     "execution_count": 47,
     "metadata": {},
     "output_type": "execute_result"
    }
   ],
   "source": [
    "getnum('10 mg/hr')"
   ]
  },
  {
   "cell_type": "code",
   "execution_count": 48,
   "metadata": {
    "collapsed": false
   },
   "outputs": [
    {
     "data": {
      "text/plain": [
       "0.75"
      ]
     },
     "execution_count": 48,
     "metadata": {},
     "output_type": "execute_result"
    }
   ],
   "source": [
    "getnum('0.75 g/day')"
   ]
  },
  {
   "cell_type": "code",
   "execution_count": 86,
   "metadata": {
    "collapsed": false
   },
   "outputs": [
    {
     "name": "stdout",
     "output_type": "stream",
     "text": [
      "In one hr, the patient will have received 20  mg of Asprin. Doubling the dosage to 40  mg would be dangerous!\n"
     ]
    }
   ],
   "source": [
    "#4 parsing and rewriting a string\n",
    "#so messy but I ran out of time\n",
    "def parsit(thingy):\n",
    "    \"\"\"takes med num and units apart and adds to \n",
    "    statement in correct places\"\"\"\n",
    "    med = str(thingy[0:thingy.find(' ')])\n",
    "    thingynomed = str(thingy[thingy.find(' ')+1:])\n",
    "    doseamt = float(thingynomed[0:thingynomed.find(' ')])\n",
    "    justunits = thingynomed[thingynomed.find(' '):]\n",
    "    time = str(justunits[justunits.find('/')+1:])\n",
    "    doseunit = str(justunits[0:justunits.find('/')])\n",
    "    statement1 = \"In one \" + time +\", the patient will have received %d\"%doseamt +\" \"+doseunit+\" of \"+med+\".\"\n",
    "    statement2 = \"Doubling the dosage to %d\"%(doseamt*2)+\" \"+doseunit+\" would be dangerous!\"\n",
    "    print(statement1, statement2)\n",
    "\n",
    "parsit('Asprin 20 mg/hr')"
   ]
  }
 ],
 "metadata": {
  "kernelspec": {
   "display_name": "Python 3",
   "language": "python",
   "name": "python3"
  },
  "language_info": {
   "codemirror_mode": {
    "name": "ipython",
    "version": 3
   },
   "file_extension": ".py",
   "mimetype": "text/x-python",
   "name": "python",
   "nbconvert_exporter": "python",
   "pygments_lexer": "ipython3",
   "version": "3.4.3"
  }
 },
 "nbformat": 4,
 "nbformat_minor": 0
}
