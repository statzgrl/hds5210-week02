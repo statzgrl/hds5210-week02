{
 "cells": [
  {
   "cell_type": "code",
   "execution_count": null,
   "metadata": {
    "collapsed": false
   },
   "outputs": [],
   "source": [
    "class Dose:\n",
    "    \"\"\"input word number unit/time\"\"\"\n",
    "    def __init__(self, words):\n",
    "        self.words = words\n",
    "        self.drug = str(self.words[0:self.words.find(' ')])\n",
    "        drug = self.drug\n",
    "        self.thingynomed = str(self.words[self.words.find(' ')+1:])\n",
    "        thingynomed = self.thingynomed\n",
    "        self.amount = float(thingynomed[0:thingynomed.find(' ')])\n",
    "        amount = self.amount\n",
    "        self.justunits = thingynomed[thingynomed.find(' '):]\n",
    "        justunits = self.justunits\n",
    "        self.time_unit = str(justunits[justunits.find('/')+1:])\n",
    "        time_unit = self.time_unit\n",
    "        self.mass_unit = str(justunits[1:justunits.find('/')])\n",
    "        mass_unit = self.mass_unit\n",
    "        \n",
    "    def is_overdose(self, reference):\n",
    "        if self.drug==reference.drug:\n",
    "            if self.amount > reference.amount: \n",
    "                return True\n",
    "            else: \n",
    "                return False\n",
    "        else:\n",
    "            return None\n"
   ]
  }
 ],
 "metadata": {
  "kernelspec": {
   "display_name": "Python 3",
   "language": "python",
   "name": "python3"
  },
  "language_info": {
   "codemirror_mode": {
    "name": "ipython",
    "version": 3
   },
   "file_extension": ".py",
   "mimetype": "text/x-python",
   "name": "python",
   "nbconvert_exporter": "python",
   "pygments_lexer": "ipython3",
   "version": "3.4.3"
  }
 },
 "nbformat": 4,
 "nbformat_minor": 0
}
