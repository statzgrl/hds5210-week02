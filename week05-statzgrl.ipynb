{
 "cells": [
  {
   "cell_type": "code",
   "execution_count": 1,
   "metadata": {
    "collapsed": false
   },
   "outputs": [
    {
     "name": "stdout",
     "output_type": "stream",
     "text": [
      "importing Jupyter notebook from dose.ipynb\n",
      "Amoxicillin\n",
      "100.0\n",
      "mg\n",
      "hr\n",
      "True\n",
      "False\n",
      "None\n"
     ]
    }
   ],
   "source": [
    "import jupyterimporter\n",
    "from dose import Dose\n",
    "      \n",
    "d = Dose(\"Amoxicillin 100 mg/hr\")\n",
    "print(d.drug)\n",
    "print(d.amount)\n",
    "print(d.mass_unit)\n",
    "print(d.time_unit)\n",
    "ref = Dose('Amoxicillin 50 mg/hr')\n",
    "print(d.is_overdose(ref))\n",
    "# Should return True\n",
    "\n",
    "print (d.is_overdose(d))\n",
    "# Should return False\n",
    "\n",
    "print (d.is_overdose(Dose('Penicillin 100 mg/day')))\n",
    "# Should return None"
   ]
  }
 ],
 "metadata": {
  "kernelspec": {
   "display_name": "Python 3",
   "language": "python",
   "name": "python3"
  },
  "language_info": {
   "codemirror_mode": {
    "name": "ipython",
    "version": 3
   },
   "file_extension": ".py",
   "mimetype": "text/x-python",
   "name": "python",
   "nbconvert_exporter": "python",
   "pygments_lexer": "ipython3",
   "version": "3.4.3"
  }
 },
 "nbformat": 4,
 "nbformat_minor": 0
}
