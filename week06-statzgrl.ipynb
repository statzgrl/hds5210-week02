{
 "cells": [
  {
   "cell_type": "code",
   "execution_count": 1,
   "metadata": {
    "collapsed": false
   },
   "outputs": [
    {
     "data": {
      "text/plain": [
       "['amoxicillin', 'digoxin', 'metoprolol tartrate', 'motrin']"
      ]
     },
     "execution_count": 1,
     "metadata": {},
     "output_type": "execute_result"
    }
   ],
   "source": [
    "#1\n",
    "#take this single string and make it an array with\n",
    "#one item each with lowercase and no spaces\n",
    "drugs = \"Amoxicillin, Digoxin, Metoprolol Tartrate, Motrin\"\n",
    "drugs = drugs.lower()\n",
    "druglist = drugs.split(\", \")\n",
    "druglist\n",
    "\n",
    "\n"
   ]
  },
  {
   "cell_type": "code",
   "execution_count": 2,
   "metadata": {
    "collapsed": false
   },
   "outputs": [
    {
     "data": {
      "text/plain": [
       "[['Digoxin', 170, 'mgc'], ['Digoxin', 280, 'mgc'], ['Digoxin', 500, 'mgc']]"
      ]
     },
     "execution_count": 2,
     "metadata": {},
     "output_type": "execute_result"
    }
   ],
   "source": [
    "#2\n",
    "#create a new list that contains the dosages within the allowed limits\n",
    "#for someone at 50kg given dose is 12 mcg/kg, 600 max\n",
    "available = [['Digoxin',170,'mgc'],\n",
    "             ['Digoxin',280,'mgc'],\n",
    "             ['Digoxin',500,'mgc'],\n",
    "             ['Digoxin',680,'mgc'],\n",
    "             ['Digoxin',1000,'mgc']]\n",
    "\n",
    "allow = []\n",
    "\n",
    "for d in available:\n",
    "    if d[1]<=600:\n",
    "        allow.append(d)\n",
    "      \n",
    "allow\n"
   ]
  },
  {
   "cell_type": "code",
   "execution_count": 10,
   "metadata": {
    "collapsed": false
   },
   "outputs": [
    {
     "name": "stdout",
     "output_type": "stream",
     "text": [
      "amoxicillin,dignoxin,\n"
     ]
    }
   ],
   "source": [
    "#3\n",
    "#create a comma separated list that contains\n",
    "#as many of the values from druglist as possible\n",
    "#without going over 20 characters\n",
    "druglist = ['amoxicillin','dignoxin','metroprolol tartrate','motrin']\n",
    "\n",
    "string20 = \"\"\n",
    "\n",
    "for x in druglist:\n",
    "    if len(string20)<20:\n",
    "        string20 = string20 + x + \",\"\n",
    "print(string20)"
   ]
  },
  {
   "cell_type": "code",
   "execution_count": 4,
   "metadata": {
    "collapsed": false
   },
   "outputs": [
    {
     "data": {
      "text/plain": [
       "[['Paul', 80],\n",
       " ['Digoxin', 680, 'mgc'],\n",
       " ['Eric', 55],\n",
       " ['Digoxin', 500, 'mgc'],\n",
       " ['Ada', 22],\n",
       " ['Digoxin', 170, 'mgc']]"
      ]
     },
     "execution_count": 4,
     "metadata": {},
     "output_type": "execute_result"
    }
   ],
   "source": [
    "#4\n",
    "#given patients and dose of 12 mcg/kg\n",
    "#make new list of patients with doses\n",
    "patients = [['Paul',80],['Eric',55],['Ada',22]]\n",
    "available = [['Digoxin',170,'mgc'],\n",
    "             ['Digoxin',280,'mgc'],\n",
    "             ['Digoxin',500,'mgc'],\n",
    "             ['Digoxin',680,'mgc'],\n",
    "             ['Digoxin',1000,'mgc']]\n",
    "doses = []\n",
    "current =[]\n",
    "\n",
    "for y in patients:\n",
    "    doses.append(y)\n",
    "    for x in available:\n",
    "        if x[1] <= y[1]*12:\n",
    "            current = x\n",
    "            #if it were not sorted we'd need an instruction \n",
    "            #here to pick biggest\n",
    "            #from the current\n",
    "    doses.append(current)\n",
    "doses"
   ]
  },
  {
   "cell_type": "code",
   "execution_count": null,
   "metadata": {
    "collapsed": true
   },
   "outputs": [],
   "source": []
  }
 ],
 "metadata": {
  "kernelspec": {
   "display_name": "Python 3",
   "language": "python",
   "name": "python3"
  },
  "language_info": {
   "codemirror_mode": {
    "name": "ipython",
    "version": 3
   },
   "file_extension": ".py",
   "mimetype": "text/x-python",
   "name": "python",
   "nbconvert_exporter": "python",
   "pygments_lexer": "ipython3",
   "version": "3.4.3"
  }
 },
 "nbformat": 4,
 "nbformat_minor": 0
}
